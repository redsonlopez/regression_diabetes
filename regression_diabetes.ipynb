{
 "cells": [
  {
   "cell_type": "markdown",
   "metadata": {
    "id": "Vk1KnajFkThm"
   },
   "source": [
    "<h1><b>Regressão Logística</b><br>\n",
    "<i>Conjunto de dados Diabetes Health Indicators</i></h1>\n",
    "\n",
    "<b>Objetivo do modelo:</b><br>\n",
    "Prever a probabilidade de um paciente ter diabetes.\n",
    "\n",
    "<b>O conjunto de dados contém as seguintes variáveis:</b><br><i>\n",
    "<b>gender:</b> Gênero da pessoa.<br>\n",
    "<b>age:</b> Idade da pessoa.<br>\n",
    "<b>hypertension:</b> Indica se a pessoa tem hipertensão.<br>\n",
    "<b>heart_disease:</b> Indica se a pessoa tem alguma doença cardíaca conhecida.<br>\n",
    "<b>smoking_history:</b> Histórico de tabagismo da pessoa.<br>\n",
    "<b>bmi:</b> Índice de massa corporal.<br>\n",
    "<b>HbA1c_level:</b> Nível de hemoglobina glicada — Média de glicose no sangue nos últimos meses<br>\n",
    "<b>blood_glucose_level:</b> Glicose sanguínea.<br>\n",
    "<b>diabetes:</b> Se a pessoa foi diagnosticada com diabetes ou não.<br></i>\n",
    "\n",
    "### Importação das Bibliotecas"
   ]
  },
  {
   "cell_type": "code",
   "execution_count": 1,
   "metadata": {
    "id": "KC_izxWii8kD"
   },
   "outputs": [],
   "source": [
    "import matplotlib.pyplot as plt\n",
    "import numpy as np\n",
    "import pandas as pd\n",
    "import seaborn as sns\n",
    "from sklearn.linear_model import LogisticRegression\n",
    "from sklearn.metrics import classification_report, roc_auc_score, roc_curve\n",
    "from sklearn.model_selection import train_test_split\n",
    "from sklearn.preprocessing import StandardScaler"
   ]
  },
  {
   "cell_type": "markdown",
   "metadata": {},
   "source": [
    "Configurações de estilo para os gráficos"
   ]
  },
  {
   "cell_type": "code",
   "execution_count": 2,
   "metadata": {
    "id": "K3rHO_kkdlpu"
   },
   "outputs": [],
   "source": [
    "from src.plot_config import set_seaborn\n",
    "set_seaborn()"
   ]
  },
  {
   "cell_type": "markdown",
   "metadata": {
    "id": "Ld67ZtzEqybw"
   },
   "source": [
    "### Importação e pré-visualização dos dados"
   ]
  },
  {
   "cell_type": "code",
   "execution_count": 3,
   "metadata": {
    "colab": {
     "base_uri": "https://localhost:8080/",
     "height": 241
    },
    "id": "JDU2uH_Ui9QB",
    "outputId": "c49f9244-5d36-4954-cf8f-e9479765ddb0"
   },
   "outputs": [
    {
     "data": {
      "text/html": [
       "<div>\n",
       "<style scoped>\n",
       "    .dataframe tbody tr th:only-of-type {\n",
       "        vertical-align: middle;\n",
       "    }\n",
       "\n",
       "    .dataframe tbody tr th {\n",
       "        vertical-align: top;\n",
       "    }\n",
       "\n",
       "    .dataframe thead th {\n",
       "        text-align: right;\n",
       "    }\n",
       "</style>\n",
       "<table border=\"1\" class=\"dataframe\">\n",
       "  <thead>\n",
       "    <tr style=\"text-align: right;\">\n",
       "      <th></th>\n",
       "      <th>gender</th>\n",
       "      <th>age</th>\n",
       "      <th>hypertension</th>\n",
       "      <th>heart_disease</th>\n",
       "      <th>smoking_history</th>\n",
       "      <th>bmi</th>\n",
       "      <th>HbA1c_level</th>\n",
       "      <th>blood_glucose_level</th>\n",
       "      <th>diabetes</th>\n",
       "    </tr>\n",
       "  </thead>\n",
       "  <tbody>\n",
       "    <tr>\n",
       "      <th>0</th>\n",
       "      <td>Female</td>\n",
       "      <td>80.00</td>\n",
       "      <td>0</td>\n",
       "      <td>1</td>\n",
       "      <td>never</td>\n",
       "      <td>25.19</td>\n",
       "      <td>6.60</td>\n",
       "      <td>140</td>\n",
       "      <td>0</td>\n",
       "    </tr>\n",
       "    <tr>\n",
       "      <th>1</th>\n",
       "      <td>Female</td>\n",
       "      <td>54.00</td>\n",
       "      <td>0</td>\n",
       "      <td>0</td>\n",
       "      <td>No Info</td>\n",
       "      <td>27.32</td>\n",
       "      <td>6.60</td>\n",
       "      <td>80</td>\n",
       "      <td>0</td>\n",
       "    </tr>\n",
       "    <tr>\n",
       "      <th>2</th>\n",
       "      <td>Male</td>\n",
       "      <td>28.00</td>\n",
       "      <td>0</td>\n",
       "      <td>0</td>\n",
       "      <td>never</td>\n",
       "      <td>27.32</td>\n",
       "      <td>5.70</td>\n",
       "      <td>158</td>\n",
       "      <td>0</td>\n",
       "    </tr>\n",
       "    <tr>\n",
       "      <th>3</th>\n",
       "      <td>Female</td>\n",
       "      <td>36.00</td>\n",
       "      <td>0</td>\n",
       "      <td>0</td>\n",
       "      <td>current</td>\n",
       "      <td>23.45</td>\n",
       "      <td>5.00</td>\n",
       "      <td>155</td>\n",
       "      <td>0</td>\n",
       "    </tr>\n",
       "    <tr>\n",
       "      <th>4</th>\n",
       "      <td>Male</td>\n",
       "      <td>76.00</td>\n",
       "      <td>1</td>\n",
       "      <td>1</td>\n",
       "      <td>current</td>\n",
       "      <td>20.14</td>\n",
       "      <td>4.80</td>\n",
       "      <td>155</td>\n",
       "      <td>0</td>\n",
       "    </tr>\n",
       "  </tbody>\n",
       "</table>\n",
       "</div>"
      ],
      "text/plain": [
       "   gender   age  hypertension  heart_disease smoking_history   bmi  \\\n",
       "0  Female 80.00             0              1           never 25.19   \n",
       "1  Female 54.00             0              0         No Info 27.32   \n",
       "2    Male 28.00             0              0           never 27.32   \n",
       "3  Female 36.00             0              0         current 23.45   \n",
       "4    Male 76.00             1              1         current 20.14   \n",
       "\n",
       "   HbA1c_level  blood_glucose_level  diabetes  \n",
       "0         6.60                  140         0  \n",
       "1         6.60                   80         0  \n",
       "2         5.70                  158         0  \n",
       "3         5.00                  155         0  \n",
       "4         4.80                  155         0  "
      ]
     },
     "metadata": {},
     "output_type": "display_data"
    },
    {
     "name": "stdout",
     "output_type": "stream",
     "text": [
      "\n",
      "100000 registros e 9 variáveis\n"
     ]
    }
   ],
   "source": [
    "df = pd.read_csv(\"data/diabetes.csv\")\n",
    "pd.options.display.float_format = '{:.2f}'.format\n",
    "\n",
    "display(df.head())\n",
    "registros = df.shape[0]\n",
    "print(f\"\\n{registros} registros e {df.shape[1]} variáveis\")"
   ]
  },
  {
   "cell_type": "markdown",
   "metadata": {
    "id": "y1czSuOyEwhH"
   },
   "source": [
    "### Quantidade de dados nulos"
   ]
  },
  {
   "cell_type": "code",
   "execution_count": 4,
   "metadata": {
    "colab": {
     "base_uri": "https://localhost:8080/",
     "height": 366
    },
    "id": "M24ptDMVjWso",
    "outputId": "b146ae52-c180-41b6-9242-611212b10734"
   },
   "outputs": [
    {
     "data": {
      "text/plain": [
       "gender                 0\n",
       "age                    0\n",
       "hypertension           0\n",
       "heart_disease          0\n",
       "smoking_history        0\n",
       "bmi                    0\n",
       "HbA1c_level            0\n",
       "blood_glucose_level    0\n",
       "diabetes               0\n",
       "dtype: int64"
      ]
     },
     "execution_count": 4,
     "metadata": {},
     "output_type": "execute_result"
    }
   ],
   "source": [
    "df.isnull().sum()"
   ]
  },
  {
   "cell_type": "markdown",
   "metadata": {
    "id": "fwEgwGwtE3-B"
   },
   "source": [
    "### Tipos de dados"
   ]
  },
  {
   "cell_type": "code",
   "execution_count": 5,
   "metadata": {
    "colab": {
     "base_uri": "https://localhost:8080/",
     "height": 366
    },
    "id": "pStuqYNftME6",
    "outputId": "0b6027b2-6763-42de-eab2-d1b127cba179"
   },
   "outputs": [
    {
     "data": {
      "text/plain": [
       "gender                  object\n",
       "age                    float64\n",
       "hypertension             int64\n",
       "heart_disease            int64\n",
       "smoking_history         object\n",
       "bmi                    float64\n",
       "HbA1c_level            float64\n",
       "blood_glucose_level      int64\n",
       "diabetes                 int64\n",
       "dtype: object"
      ]
     },
     "execution_count": 5,
     "metadata": {},
     "output_type": "execute_result"
    }
   ],
   "source": [
    "df.dtypes"
   ]
  },
  {
   "cell_type": "markdown",
   "metadata": {
    "id": "Aemjdxg7Fced"
   },
   "source": [
    "### Dados inconsistentes e duplicados"
   ]
  },
  {
   "cell_type": "code",
   "execution_count": 6,
   "metadata": {
    "colab": {
     "base_uri": "https://localhost:8080/"
    },
    "id": "O0RX9qQvFhB4",
    "outputId": "bb8bdaec-361a-4467-e6ee-9dc1611c9c1e"
   },
   "outputs": [
    {
     "name": "stdout",
     "output_type": "stream",
     "text": [
      "gender: ['Female' 'Male' 'Other']\n",
      "smoking_history: ['never' 'No Info' 'current' 'former' 'ever' 'not current']\n"
     ]
    }
   ],
   "source": [
    "for i in df.select_dtypes(include=\"object\").columns:\n",
    "  print(f\"{i}: {df[i].unique()}\")"
   ]
  },
  {
   "cell_type": "markdown",
   "metadata": {
    "id": "jGq0ODE8Do-c"
   },
   "source": [
    "### Transformação das Variáveis Categóricas\n",
    "\n",
    "Codificação ordinal baseada em risco"
   ]
  },
  {
   "cell_type": "code",
   "execution_count": 7,
   "metadata": {
    "id": "i3TcaOYEDrf_"
   },
   "outputs": [],
   "source": [
    "smoking_map = {\n",
    "    \"never\": 0,\n",
    "    \"not current\": 1,\n",
    "    \"former\": 2,\n",
    "    \"ever\": 2,\n",
    "    \"current\": 3,\n",
    "    \"No Info\": -1\n",
    "}\n",
    "\n",
    "df[\"smoking_history_mapped\"] = df[\"smoking_history\"].map(smoking_map)\n",
    "df.drop(\"smoking_history\", axis=1, inplace=True)"
   ]
  },
  {
   "cell_type": "markdown",
   "metadata": {
    "id": "kB1K6cs3EpKs"
   },
   "source": [
    "One-hot encoding<br>\n",
    "<small>\"drop_first=True\" para evitar multicolinearidade"
   ]
  },
  {
   "cell_type": "code",
   "execution_count": 8,
   "metadata": {
    "id": "72LNmKmLErgN"
   },
   "outputs": [],
   "source": [
    "df = pd.get_dummies(df, columns=[\"gender\"], dtype=int, drop_first=True)"
   ]
  },
  {
   "cell_type": "markdown",
   "metadata": {
    "id": "hN5jW2ozXGF5"
   },
   "source": [
    "### Análise e tratamento de Outilies"
   ]
  },
  {
   "cell_type": "code",
   "execution_count": 9,
   "metadata": {
    "colab": {
     "base_uri": "https://localhost:8080/",
     "height": 451
    },
    "id": "sYK2h0Y-aTxQ",
    "outputId": "0b9d79a4-f248-4afd-a0fe-a35464508539"
   },
   "outputs": [
    {
     "data": {
      "image/png": "[encoded data removed]",
      "text/plain": [
       "<Figure size 1500x600 with 1 Axes>"
      ]
     },
     "metadata": {},
     "output_type": "display_data"
    }
   ],
   "source": [
    "numericas = [\"age\", \"bmi\", \"HbA1c_level\", \"blood_glucose_level\"]\n",
    "\n",
    "sns.boxplot(df[numericas]);"
   ]
  },
  {
   "cell_type": "markdown",
   "metadata": {
    "id": "-kqiMksqvP4c"
   },
   "source": [
    "Regra do 1,5 × Distância Interquartílica para identificação de Outlires"
   ]
  },
  {
   "cell_type": "code",
   "execution_count": 10,
   "metadata": {
    "colab": {
     "base_uri": "https://localhost:8080/"
    },
    "id": "5cSmD3kzXISi",
    "outputId": "c6539958-e26a-4c2c-df01-fea2075830f7"
   },
   "outputs": [
    {
     "name": "stdout",
     "output_type": "stream",
     "text": [
      "Mínimo da variável 'age' = 0.08\n",
      "Máximo da variável 'age' = 80.0\n",
      "Limites da variável 'age' = -30.0 a 114.0\n",
      "Outliers da variável 'age' = []\n",
      "\n",
      "Mínimo da variável 'bmi' = 10.01\n",
      "Máximo da variável 'bmi' = 95.69\n",
      "Limites da variável 'bmi' = 14.7 a 38.5\n",
      "Outliers da variável 'bmi' = [54.7  13.99 56.43 ... 59.42 44.39 60.52]\n",
      "\n",
      "Mínimo da variável 'HbA1c_level' = 3.5\n",
      "Máximo da variável 'HbA1c_level' = 9.0\n",
      "Limites da variável 'HbA1c_level' = 2.7 a 8.3\n",
      "Outliers da variável 'HbA1c_level' = [9.  8.8]\n",
      "\n",
      "Mínimo da variável 'blood_glucose_level' = 80\n",
      "Máximo da variável 'blood_glucose_level' = 300\n",
      "Limites da variável 'blood_glucose_level' = 11.5 a 247.5\n",
      "Outliers da variável 'blood_glucose_level' = [260 300 280]\n",
      "\n"
     ]
    }
   ],
   "source": [
    "for i in df[numericas].columns:\n",
    "  Q1 = df[i].quantile(0.25)\n",
    "  Q3 = df[i].quantile(0.75)\n",
    "  IQR = Q3 - Q1\n",
    "\n",
    "  limite_inferior = Q1 - 1.5 * IQR\n",
    "  limite_superior = Q3 + 1.5 * IQR\n",
    "\n",
    "  outliers_iqr = df[(df[i] < limite_inferior) | (df[i] > limite_superior)]\n",
    "\n",
    "  print(f\"Mínimo da variável '{i}' = {df[i].min()}\\nMáximo da variável '{i}' = {df[i].max()}\")\n",
    "  print(f\"Limites da variável '{i}' = {round(limite_inferior, 2)} a {round(limite_superior, 2)}\")\n",
    "  print(f\"Outliers da variável '{i}' = {outliers_iqr[i].unique()}\\n\")"
   ]
  },
  {
   "cell_type": "markdown",
   "metadata": {
    "id": "NEUJUw1nvUGP"
   },
   "source": [
    "Valores que podem ser considerados outliers para cada variável aplicando o contexto clínico:<br>\n",
    "age → valores muito baixos (crianças) ou muito altos (120 anos).<br>\n",
    "bmi → valores < 10 ou > 70 geralmente são outliers.<br>\n",
    "HbA1c_level → acima de 15 já é raro.<br>\n",
    "blood_glucose_level → valores > 300–400 podem ser extremos."
   ]
  },
  {
   "cell_type": "code",
   "execution_count": 11,
   "metadata": {
    "colab": {
     "base_uri": "https://localhost:8080/"
    },
    "id": "07Rx7wWIrs0q",
    "outputId": "745f3ce9-ac96-44aa-d295-467a208fc9c2"
   },
   "outputs": [
    {
     "name": "stdout",
     "output_type": "stream",
     "text": [
      "Ao remover os outliers temos uma perda de 17236 registros\n",
      "Que representam 17.24% dos dados\n",
      "Gerando uma amostra com 82764 registros e 10 variáveis\n"
     ]
    }
   ],
   "source": [
    "df_without_outlier = df[(df[\"age\"] > 17) & (df[\"bmi\"].between(10, 70))]\n",
    "\n",
    "print(f\"Ao remover os outliers temos uma perda de {registros - df_without_outlier.shape[0]} registros\")\n",
    "print(f\"Que representam {round(100 - ((df_without_outlier.shape[0] / registros) * 100), 2)}% dos dados\")\n",
    "print(f\"Gerando uma amostra com {df_without_outlier.shape[0]} registros e {df_without_outlier.shape[1]} variáveis\")"
   ]
  },
  {
   "cell_type": "markdown",
   "metadata": {
    "id": "-E3TlRD370mQ"
   },
   "source": [
    "Na análise exploratória, foi detectado que 17,2% dos registros estavam fora dos limites de idade definidos (menores de 18 anos).\n",
    "Como a exclusão dessa quantidade representa uma perda significativa de informação, será criado um dataframe com a variável 'outlier_age' que explica esses outliers sem retira-los para testes alternativos."
   ]
  },
  {
   "cell_type": "code",
   "execution_count": 12,
   "metadata": {
    "colab": {
     "base_uri": "https://localhost:8080/"
    },
    "id": "uIRSO6xc7Yfy",
    "outputId": "ebe7e2b3-f4d6-47d1-ee41-5fd5d53e75ff"
   },
   "outputs": [
    {
     "name": "stdout",
     "output_type": "stream",
     "text": [
      "Ao remover os outliers temos uma perda de 19 registros\n",
      "Que representam 0.02% dos dados\n",
      "Gerando uma amostra com 99981 registros e 11 variáveis\n"
     ]
    }
   ],
   "source": [
    "df_outlier_age = df.copy()\n",
    "df_outlier_age = df_outlier_age[df_outlier_age[\"bmi\"].between(10, 70)]\n",
    "df_outlier_age[\"outlier_age\"] = np.where(df_outlier_age[\"age\"] < 18, 1, 0)\n",
    "\n",
    "print(f\"Ao remover os outliers temos uma perda de {registros - df_outlier_age.shape[0]} registros\")\n",
    "print(f\"Que representam {round(100 - ((df_outlier_age.shape[0] / registros) * 100), 2)}% dos dados\")\n",
    "print(f\"Gerando uma amostra com {df_outlier_age.shape[0]} registros e {df_outlier_age.shape[1]} variáveis\")"
   ]
  },
  {
   "cell_type": "markdown",
   "metadata": {},
   "source": [
    "### Proporção de dados na variável alvo"
   ]
  },
  {
   "cell_type": "code",
   "execution_count": 13,
   "metadata": {},
   "outputs": [
    {
     "data": {
      "image/png": "[encoded data removed]",
      "text/plain": [
       "<Figure size 1500x600 with 1 Axes>"
      ]
     },
     "metadata": {},
     "output_type": "display_data"
    }
   ],
   "source": [
    "sns.countplot(y=df[\"diabetes\"], palette=\"viridis\", hue=df[\"diabetes\"], legend=False);"
   ]
  },
  {
   "cell_type": "code",
   "execution_count": 14,
   "metadata": {},
   "outputs": [
    {
     "name": "stdout",
     "output_type": "stream",
     "text": [
      "Quantidade de dados com pacientes negativo para diabetes: 91500\n",
      "Quantidade de dados com pacientes positivo para diabetes: 8500\n",
      "\n",
      "Proporção de negativos para diabetes: 0.915\n",
      "Proporção de positivos para diabetes: 0.085\n",
      "\n",
      "Dados desbalanceados.\n"
     ]
    }
   ],
   "source": [
    "proportion_diabetes = df[\"diabetes\"].value_counts(normalize=True)\n",
    "count_diabetes = df[\"diabetes\"].value_counts()\n",
    "\n",
    "print(f\"Quantidade de dados com pacientes negativo para diabetes: {count_diabetes[0]}\")\n",
    "print(f\"Quantidade de dados com pacientes positivo para diabetes: {count_diabetes[1]}\\n\")\n",
    "\n",
    "print(f\"Proporção de negativos para diabetes: {float(proportion_diabetes[0])}\")\n",
    "print(f\"Proporção de positivos para diabetes: {float(proportion_diabetes[1])}\\n\")\n",
    "\n",
    "if float(proportion_diabetes[0]) < 0.35 or float(proportion_diabetes[1]) < 0.35:\n",
    "    print(\"Dados desbalanceados.\")\n",
    "else:\n",
    "    print(\"Perfeito!\\nDados balanceados.\")"
   ]
  },
  {
   "cell_type": "markdown",
   "metadata": {
    "id": "pgLNdpOjBMiV"
   },
   "source": [
    "### Modelo Inicial"
   ]
  },
  {
   "cell_type": "code",
   "execution_count": 15,
   "metadata": {
    "id": "U80qoltMBQVH"
   },
   "outputs": [],
   "source": [
    "X = df.drop(columns=[\"diabetes\"])\n",
    "y = df[\"diabetes\"]\n",
    "\n",
    "X_train, X_test, y_train, y_test = train_test_split(\n",
    "    X, y, test_size=0.2, random_state=42, stratify=y\n",
    ")\n",
    "\n",
    "model = LogisticRegression(max_iter=1000, penalty=\"l2\")\n",
    "model.fit(X_train, y_train)\n",
    "\n",
    "y_pred = model.predict(X_test)\n",
    "y_pred_prob = model.predict_proba(X_test)[:, 1]  # probabilidade da classe positiva"
   ]
  },
  {
   "cell_type": "markdown",
   "metadata": {
    "id": "Y6zmRVbjUnGk"
   },
   "source": [
    "### Avaliação do Modelo\n",
    "\n",
    "<b>Precision:</b> Proporção dos acertos da categoria prevista.<br>\n",
    "Entre os que o modelo disse que são positivos, quantos realmente são?<br>\n",
    "<b>Recall:</b> Proporção dos acertos dentro da categoria real.<br>\n",
    "Entre os que realmente são positivos, quantos o modelo conseguiu identificar?<br>\n",
    "<b>F1-score:</b> Equilíbrio entre precision e recall (média harmônica).<br>\n",
    "Útil quando as classes estão desbalanceadas.<br>\n",
    "<b>AUC-ROC:</b> Mede a capacidade do modelo de separar positivos e negativos em todos os possíveis limiares de decisão.<br>\n",
    "AUC próximo de 1 = ótimo separador, AUC ≈ 0.5 = aleatório.<br>"
   ]
  },
  {
   "cell_type": "code",
   "execution_count": 16,
   "metadata": {
    "colab": {
     "base_uri": "https://localhost:8080/",
     "height": 687
    },
    "id": "xYi9aafxUoi0",
    "outputId": "9d2890dd-43c2-4bb8-f7a7-a647f91342ed"
   },
   "outputs": [
    {
     "name": "stdout",
     "output_type": "stream",
     "text": [
      "Classification Report (Precision, Recall, F1):\n",
      "              precision    recall  f1-score   support\n",
      "\n",
      "           0      0.967     0.990     0.979     18300\n",
      "           1      0.860     0.638     0.732      1700\n",
      "\n",
      "    accuracy                          0.960     20000\n",
      "   macro avg      0.913     0.814     0.855     20000\n",
      "weighted avg      0.958     0.960     0.958     20000\n",
      "\n",
      "AUC-ROC: 0.962\n"
     ]
    },
    {
     "data": {
      "image/png": "[encoded data removed]",
      "text/plain": [
       "<Figure size 1500x600 with 1 Axes>"
      ]
     },
     "metadata": {},
     "output_type": "display_data"
    }
   ],
   "source": [
    "print(\"Classification Report (Precision, Recall, F1):\")\n",
    "print(classification_report(y_test, y_pred, digits=3))\n",
    "\n",
    "roc_auc = roc_auc_score(y_test, y_pred_prob)\n",
    "print(f\"AUC-ROC: {roc_auc:.3f}\")\n",
    "\n",
    "fpr, tpr, thresholds = roc_curve(y_test, y_pred_prob)\n",
    "sns.lineplot(x=fpr, y=tpr, label=f\"Logistic Regression (AUC = {roc_auc:.3f})\")\n",
    "sns.lineplot(x=[0,1], y=[0,1], color=\"gray\", linestyle=\"--\", label=\"Aleatório\")\n",
    "plt.xlabel(\"False Positive Rate\")\n",
    "plt.ylabel(\"True Positive Rate\")\n",
    "plt.title(\"Curva ROC\")\n",
    "plt.show()"
   ]
  },
  {
   "cell_type": "markdown",
   "metadata": {
    "id": "PiOdwSgqRXsS"
   },
   "source": [
    "### Seleção de Variáveis\n",
    "Correlação de Pearson"
   ]
  },
  {
   "cell_type": "code",
   "execution_count": 17,
   "metadata": {
    "colab": {
     "base_uri": "https://localhost:8080/",
     "height": 383
    },
    "id": "sx0MfEfaRZ8O",
    "outputId": "0943b3e5-e6b7-4bff-ff8a-0fbe72072000"
   },
   "outputs": [
    {
     "data": {
      "text/html": [
       "<div>\n",
       "<style scoped>\n",
       "    .dataframe tbody tr th:only-of-type {\n",
       "        vertical-align: middle;\n",
       "    }\n",
       "\n",
       "    .dataframe tbody tr th {\n",
       "        vertical-align: top;\n",
       "    }\n",
       "\n",
       "    .dataframe thead th {\n",
       "        text-align: right;\n",
       "    }\n",
       "</style>\n",
       "<table border=\"1\" class=\"dataframe\">\n",
       "  <thead>\n",
       "    <tr style=\"text-align: right;\">\n",
       "      <th></th>\n",
       "      <th>age</th>\n",
       "      <th>hypertension</th>\n",
       "      <th>heart_disease</th>\n",
       "      <th>bmi</th>\n",
       "      <th>HbA1c_level</th>\n",
       "      <th>blood_glucose_level</th>\n",
       "      <th>diabetes</th>\n",
       "      <th>smoking_history_mapped</th>\n",
       "      <th>gender_Male</th>\n",
       "      <th>gender_Other</th>\n",
       "    </tr>\n",
       "  </thead>\n",
       "  <tbody>\n",
       "    <tr>\n",
       "      <th>age</th>\n",
       "      <td>1.00</td>\n",
       "      <td>0.25</td>\n",
       "      <td>0.23</td>\n",
       "      <td>0.34</td>\n",
       "      <td>0.10</td>\n",
       "      <td>0.11</td>\n",
       "      <td>0.26</td>\n",
       "      <td>0.25</td>\n",
       "      <td>-0.03</td>\n",
       "      <td>-0.01</td>\n",
       "    </tr>\n",
       "    <tr>\n",
       "      <th>hypertension</th>\n",
       "      <td>0.25</td>\n",
       "      <td>1.00</td>\n",
       "      <td>0.12</td>\n",
       "      <td>0.15</td>\n",
       "      <td>0.08</td>\n",
       "      <td>0.08</td>\n",
       "      <td>0.20</td>\n",
       "      <td>0.10</td>\n",
       "      <td>0.01</td>\n",
       "      <td>-0.00</td>\n",
       "    </tr>\n",
       "    <tr>\n",
       "      <th>heart_disease</th>\n",
       "      <td>0.23</td>\n",
       "      <td>0.12</td>\n",
       "      <td>1.00</td>\n",
       "      <td>0.06</td>\n",
       "      <td>0.07</td>\n",
       "      <td>0.07</td>\n",
       "      <td>0.17</td>\n",
       "      <td>0.08</td>\n",
       "      <td>0.08</td>\n",
       "      <td>-0.00</td>\n",
       "    </tr>\n",
       "    <tr>\n",
       "      <th>bmi</th>\n",
       "      <td>0.34</td>\n",
       "      <td>0.15</td>\n",
       "      <td>0.06</td>\n",
       "      <td>1.00</td>\n",
       "      <td>0.08</td>\n",
       "      <td>0.09</td>\n",
       "      <td>0.21</td>\n",
       "      <td>0.19</td>\n",
       "      <td>-0.02</td>\n",
       "      <td>0.00</td>\n",
       "    </tr>\n",
       "    <tr>\n",
       "      <th>HbA1c_level</th>\n",
       "      <td>0.10</td>\n",
       "      <td>0.08</td>\n",
       "      <td>0.07</td>\n",
       "      <td>0.08</td>\n",
       "      <td>1.00</td>\n",
       "      <td>0.17</td>\n",
       "      <td>0.40</td>\n",
       "      <td>0.04</td>\n",
       "      <td>0.02</td>\n",
       "      <td>-0.00</td>\n",
       "    </tr>\n",
       "    <tr>\n",
       "      <th>blood_glucose_level</th>\n",
       "      <td>0.11</td>\n",
       "      <td>0.08</td>\n",
       "      <td>0.07</td>\n",
       "      <td>0.09</td>\n",
       "      <td>0.17</td>\n",
       "      <td>1.00</td>\n",
       "      <td>0.42</td>\n",
       "      <td>0.05</td>\n",
       "      <td>0.02</td>\n",
       "      <td>0.00</td>\n",
       "    </tr>\n",
       "    <tr>\n",
       "      <th>diabetes</th>\n",
       "      <td>0.26</td>\n",
       "      <td>0.20</td>\n",
       "      <td>0.17</td>\n",
       "      <td>0.21</td>\n",
       "      <td>0.40</td>\n",
       "      <td>0.42</td>\n",
       "      <td>1.00</td>\n",
       "      <td>0.11</td>\n",
       "      <td>0.04</td>\n",
       "      <td>-0.00</td>\n",
       "    </tr>\n",
       "    <tr>\n",
       "      <th>smoking_history_mapped</th>\n",
       "      <td>0.25</td>\n",
       "      <td>0.10</td>\n",
       "      <td>0.08</td>\n",
       "      <td>0.19</td>\n",
       "      <td>0.04</td>\n",
       "      <td>0.05</td>\n",
       "      <td>0.11</td>\n",
       "      <td>1.00</td>\n",
       "      <td>0.02</td>\n",
       "      <td>-0.00</td>\n",
       "    </tr>\n",
       "    <tr>\n",
       "      <th>gender_Male</th>\n",
       "      <td>-0.03</td>\n",
       "      <td>0.01</td>\n",
       "      <td>0.08</td>\n",
       "      <td>-0.02</td>\n",
       "      <td>0.02</td>\n",
       "      <td>0.02</td>\n",
       "      <td>0.04</td>\n",
       "      <td>0.02</td>\n",
       "      <td>1.00</td>\n",
       "      <td>-0.01</td>\n",
       "    </tr>\n",
       "    <tr>\n",
       "      <th>gender_Other</th>\n",
       "      <td>-0.01</td>\n",
       "      <td>-0.00</td>\n",
       "      <td>-0.00</td>\n",
       "      <td>0.00</td>\n",
       "      <td>-0.00</td>\n",
       "      <td>0.00</td>\n",
       "      <td>-0.00</td>\n",
       "      <td>-0.00</td>\n",
       "      <td>-0.01</td>\n",
       "      <td>1.00</td>\n",
       "    </tr>\n",
       "  </tbody>\n",
       "</table>\n",
       "</div>"
      ],
      "text/plain": [
       "                         age  hypertension  heart_disease   bmi  HbA1c_level  \\\n",
       "age                     1.00          0.25           0.23  0.34         0.10   \n",
       "hypertension            0.25          1.00           0.12  0.15         0.08   \n",
       "heart_disease           0.23          0.12           1.00  0.06         0.07   \n",
       "bmi                     0.34          0.15           0.06  1.00         0.08   \n",
       "HbA1c_level             0.10          0.08           0.07  0.08         1.00   \n",
       "blood_glucose_level     0.11          0.08           0.07  0.09         0.17   \n",
       "diabetes                0.26          0.20           0.17  0.21         0.40   \n",
       "smoking_history_mapped  0.25          0.10           0.08  0.19         0.04   \n",
       "gender_Male            -0.03          0.01           0.08 -0.02         0.02   \n",
       "gender_Other           -0.01         -0.00          -0.00  0.00        -0.00   \n",
       "\n",
       "                        blood_glucose_level  diabetes  smoking_history_mapped  \\\n",
       "age                                    0.11      0.26                    0.25   \n",
       "hypertension                           0.08      0.20                    0.10   \n",
       "heart_disease                          0.07      0.17                    0.08   \n",
       "bmi                                    0.09      0.21                    0.19   \n",
       "HbA1c_level                            0.17      0.40                    0.04   \n",
       "blood_glucose_level                    1.00      0.42                    0.05   \n",
       "diabetes                               0.42      1.00                    0.11   \n",
       "smoking_history_mapped                 0.05      0.11                    1.00   \n",
       "gender_Male                            0.02      0.04                    0.02   \n",
       "gender_Other                           0.00     -0.00                   -0.00   \n",
       "\n",
       "                        gender_Male  gender_Other  \n",
       "age                           -0.03         -0.01  \n",
       "hypertension                   0.01         -0.00  \n",
       "heart_disease                  0.08         -0.00  \n",
       "bmi                           -0.02          0.00  \n",
       "HbA1c_level                    0.02         -0.00  \n",
       "blood_glucose_level            0.02          0.00  \n",
       "diabetes                       0.04         -0.00  \n",
       "smoking_history_mapped         0.02         -0.00  \n",
       "gender_Male                    1.00         -0.01  \n",
       "gender_Other                  -0.01          1.00  "
      ]
     },
     "metadata": {},
     "output_type": "display_data"
    }
   ],
   "source": [
    "display(df.corr(method=\"pearson\"))"
   ]
  },
  {
   "cell_type": "markdown",
   "metadata": {
    "id": "boKLYvxmGeGJ"
   },
   "source": [
    "Coeficientes Absolutos"
   ]
  },
  {
   "cell_type": "code",
   "execution_count": 18,
   "metadata": {
    "colab": {
     "base_uri": "https://localhost:8080/",
     "height": 332
    },
    "id": "wst8-G7LGC-_",
    "outputId": "ab82345b-57b5-4c41-8b85-af89cd05fee9"
   },
   "outputs": [
    {
     "data": {
      "text/html": [
       "<div>\n",
       "<style scoped>\n",
       "    .dataframe tbody tr th:only-of-type {\n",
       "        vertical-align: middle;\n",
       "    }\n",
       "\n",
       "    .dataframe tbody tr th {\n",
       "        vertical-align: top;\n",
       "    }\n",
       "\n",
       "    .dataframe thead th {\n",
       "        text-align: right;\n",
       "    }\n",
       "</style>\n",
       "<table border=\"1\" class=\"dataframe\">\n",
       "  <thead>\n",
       "    <tr style=\"text-align: right;\">\n",
       "      <th></th>\n",
       "      <th>Feature</th>\n",
       "      <th>Coef</th>\n",
       "    </tr>\n",
       "  </thead>\n",
       "  <tbody>\n",
       "    <tr>\n",
       "      <th>4</th>\n",
       "      <td>HbA1c_level</td>\n",
       "      <td>2.33</td>\n",
       "    </tr>\n",
       "    <tr>\n",
       "      <th>1</th>\n",
       "      <td>hypertension</td>\n",
       "      <td>0.79</td>\n",
       "    </tr>\n",
       "    <tr>\n",
       "      <th>2</th>\n",
       "      <td>heart_disease</td>\n",
       "      <td>0.73</td>\n",
       "    </tr>\n",
       "    <tr>\n",
       "      <th>7</th>\n",
       "      <td>gender_Male</td>\n",
       "      <td>0.26</td>\n",
       "    </tr>\n",
       "    <tr>\n",
       "      <th>6</th>\n",
       "      <td>smoking_history_mapped</td>\n",
       "      <td>0.15</td>\n",
       "    </tr>\n",
       "    <tr>\n",
       "      <th>3</th>\n",
       "      <td>bmi</td>\n",
       "      <td>0.09</td>\n",
       "    </tr>\n",
       "    <tr>\n",
       "      <th>0</th>\n",
       "      <td>age</td>\n",
       "      <td>0.05</td>\n",
       "    </tr>\n",
       "    <tr>\n",
       "      <th>5</th>\n",
       "      <td>blood_glucose_level</td>\n",
       "      <td>0.03</td>\n",
       "    </tr>\n",
       "    <tr>\n",
       "      <th>8</th>\n",
       "      <td>gender_Other</td>\n",
       "      <td>0.02</td>\n",
       "    </tr>\n",
       "  </tbody>\n",
       "</table>\n",
       "</div>"
      ],
      "text/plain": [
       "                  Feature  Coef\n",
       "4             HbA1c_level  2.33\n",
       "1            hypertension  0.79\n",
       "2           heart_disease  0.73\n",
       "7             gender_Male  0.26\n",
       "6  smoking_history_mapped  0.15\n",
       "3                     bmi  0.09\n",
       "0                     age  0.05\n",
       "5     blood_glucose_level  0.03\n",
       "8            gender_Other  0.02"
      ]
     },
     "execution_count": 18,
     "metadata": {},
     "output_type": "execute_result"
    }
   ],
   "source": [
    "coeffs = pd.DataFrame({\n",
    "    \"Feature\": X.columns,\n",
    "    \"Coef\": np.abs(model.coef_[0])\n",
    "}).sort_values(by=\"Coef\", ascending=False)\n",
    "\n",
    "coeffs"
   ]
  },
  {
   "cell_type": "markdown",
   "metadata": {
    "id": "e4jFigPqLLEO"
   },
   "source": [
    "### Modelo Ajustado\n",
    "Ajuste de melhor recall em positivo para diabetes "
   ]
  },
  {
   "cell_type": "code",
   "execution_count": 19,
   "metadata": {
    "colab": {
     "base_uri": "https://localhost:8080/"
    },
    "id": "jKhPUhm5LNEN",
    "outputId": "7012847e-2a7e-4464-a148-d3897d0921f9"
   },
   "outputs": [
    {
     "name": "stdout",
     "output_type": "stream",
     "text": [
      "Classification Report (Precision, Recall, F1):\n",
      "              precision    recall  f1-score   support\n",
      "\n",
      "           0      0.989     0.884     0.934     18300\n",
      "           1      0.417     0.890     0.568      1700\n",
      "\n",
      "    accuracy                          0.885     20000\n",
      "   macro avg      0.703     0.887     0.751     20000\n",
      "weighted avg      0.940     0.885     0.902     20000\n",
      "\n",
      "AUC-ROC: 0.962\n"
     ]
    }
   ],
   "source": [
    "variaveis = [\"HbA1c_level\", \"blood_glucose_level\", \"age\", \"bmi\", \"hypertension\", \"smoking_history_mapped\"]\n",
    "\n",
    "X = X[variaveis]\n",
    "y = df[\"diabetes\"]\n",
    "\n",
    "scaler = StandardScaler()\n",
    "X = pd.DataFrame(scaler.fit_transform(X), columns=X.columns)\n",
    "\n",
    "X_train, X_test, y_train, y_test = train_test_split(\n",
    "    X, y, test_size=0.2, random_state=42, stratify=y\n",
    ")\n",
    "\n",
    "model = LogisticRegression(max_iter=1000, penalty=\"l2\", class_weight=\"balanced\")\n",
    "model.fit(X_train, y_train)\n",
    "\n",
    "y_pred = model.predict(X_test)\n",
    "y_pred_prob = model.predict_proba(X_test)[:, 1]\n",
    "\n",
    "print(\"Classification Report (Precision, Recall, F1):\")\n",
    "print(classification_report(y_test, y_pred, digits=3))\n",
    "\n",
    "roc_auc = roc_auc_score(y_test, y_pred_prob)\n",
    "print(f\"AUC-ROC: {roc_auc:.3f}\")"
   ]
  },
  {
   "cell_type": "markdown",
   "metadata": {
    "id": "KJb1qHZyTdHY"
   },
   "source": [
    "### Explicabilidade do Modelo"
   ]
  },
  {
   "cell_type": "code",
   "execution_count": 20,
   "metadata": {},
   "outputs": [
    {
     "data": {
      "text/plain": [
       "array([-2.7867559])"
      ]
     },
     "execution_count": 20,
     "metadata": {},
     "output_type": "execute_result"
    }
   ],
   "source": [
    "model.intercept_"
   ]
  },
  {
   "cell_type": "code",
   "execution_count": 21,
   "metadata": {},
   "outputs": [
    {
     "data": {
      "text/plain": [
       "array([[2.31222717, 1.29423684, 1.15377505, 0.64077044, 0.23215948,\n",
       "        0.22088237]])"
      ]
     },
     "execution_count": 21,
     "metadata": {},
     "output_type": "execute_result"
    }
   ],
   "source": [
    "model.coef_"
   ]
  },
  {
   "cell_type": "markdown",
   "metadata": {},
   "source": [
    "Odds ratios ($exp(β)$)"
   ]
  },
  {
   "cell_type": "code",
   "execution_count": 22,
   "metadata": {
    "colab": {
     "base_uri": "https://localhost:8080/",
     "height": 238
    },
    "id": "2ssuu0NfTbkt",
    "outputId": "13ee9caa-5403-4b0a-f87e-81ec3826633c"
   },
   "outputs": [
    {
     "data": {
      "text/html": [
       "<div>\n",
       "<style scoped>\n",
       "    .dataframe tbody tr th:only-of-type {\n",
       "        vertical-align: middle;\n",
       "    }\n",
       "\n",
       "    .dataframe tbody tr th {\n",
       "        vertical-align: top;\n",
       "    }\n",
       "\n",
       "    .dataframe thead th {\n",
       "        text-align: right;\n",
       "    }\n",
       "</style>\n",
       "<table border=\"1\" class=\"dataframe\">\n",
       "  <thead>\n",
       "    <tr style=\"text-align: right;\">\n",
       "      <th></th>\n",
       "      <th>Feature</th>\n",
       "      <th>Coef</th>\n",
       "    </tr>\n",
       "  </thead>\n",
       "  <tbody>\n",
       "    <tr>\n",
       "      <th>0</th>\n",
       "      <td>HbA1c_level</td>\n",
       "      <td>10.10</td>\n",
       "    </tr>\n",
       "    <tr>\n",
       "      <th>1</th>\n",
       "      <td>blood_glucose_level</td>\n",
       "      <td>3.65</td>\n",
       "    </tr>\n",
       "    <tr>\n",
       "      <th>2</th>\n",
       "      <td>age</td>\n",
       "      <td>3.17</td>\n",
       "    </tr>\n",
       "    <tr>\n",
       "      <th>3</th>\n",
       "      <td>bmi</td>\n",
       "      <td>1.90</td>\n",
       "    </tr>\n",
       "    <tr>\n",
       "      <th>4</th>\n",
       "      <td>hypertension</td>\n",
       "      <td>1.26</td>\n",
       "    </tr>\n",
       "    <tr>\n",
       "      <th>5</th>\n",
       "      <td>smoking_history_mapped</td>\n",
       "      <td>1.25</td>\n",
       "    </tr>\n",
       "  </tbody>\n",
       "</table>\n",
       "</div>"
      ],
      "text/plain": [
       "                  Feature  Coef\n",
       "0             HbA1c_level 10.10\n",
       "1     blood_glucose_level  3.65\n",
       "2                     age  3.17\n",
       "3                     bmi  1.90\n",
       "4            hypertension  1.26\n",
       "5  smoking_history_mapped  1.25"
      ]
     },
     "execution_count": 22,
     "metadata": {},
     "output_type": "execute_result"
    }
   ],
   "source": [
    "coeffs = pd.DataFrame({\n",
    "    \"Feature\": X.columns,\n",
    "    \"Coef\": np.exp(model.coef_[0])\n",
    "})\n",
    "coeffs.sort_values(by=\"Coef\", ascending=False)"
   ]
  }
 ],
 "metadata": {
  "colab": {
   "provenance": []
  },
  "kernelspec": {
   "display_name": "Python 3 (ipykernel)",
   "language": "python",
   "name": "python3"
  },
  "language_info": {
   "codemirror_mode": {
    "name": "ipython",
    "version": 3
   },
   "file_extension": ".py",
   "mimetype": "text/x-python",
   "name": "python",
   "nbconvert_exporter": "python",
   "pygments_lexer": "ipython3",
   "version": "3.12.11"
  }
 },
 "nbformat": 4,
 "nbformat_minor": 4
}
